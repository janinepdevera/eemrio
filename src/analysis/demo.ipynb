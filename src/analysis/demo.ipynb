{
 "cells": [
  {
   "cell_type": "markdown",
   "metadata": {},
   "source": [
    "# Demo of MRIO and EE classes\n",
    "\n",
    "This notebook demonstrates the `MRIO` and `EE` classes that make IO calculations easier in Python. "
   ]
  },
  {
   "cell_type": "code",
   "execution_count": 1,
   "metadata": {},
   "outputs": [],
   "source": [
    "import duckdb\n",
    "from mrio import MRIO, EE"
   ]
  },
  {
   "cell_type": "markdown",
   "metadata": {},
   "source": [
    "Before running this notebook, save the EE-MRIO Excel files in `data/raw` and run `1-preprocess-eemrios.py`. This compiles all years into two files: `mrio.parquet` and `ee.parquet`. These store the MRIOs in a lightweight, machine-readable format. \n",
    "\n",
    "We can view snippets below:"
   ]
  },
  {
   "cell_type": "code",
   "execution_count": 2,
   "metadata": {},
   "outputs": [],
   "source": [
    "input_mrio = '../data/mrio.parquet'\n",
    "input_ee = '../data/ee.parquet'"
   ]
  },
  {
   "cell_type": "code",
   "execution_count": 3,
   "metadata": {},
   "outputs": [
    {
     "data": {
      "text/html": [
       "<div>\n",
       "<style scoped>\n",
       "    .dataframe tbody tr th:only-of-type {\n",
       "        vertical-align: middle;\n",
       "    }\n",
       "\n",
       "    .dataframe tbody tr th {\n",
       "        vertical-align: top;\n",
       "    }\n",
       "\n",
       "    .dataframe thead th {\n",
       "        text-align: right;\n",
       "    }\n",
       "</style>\n",
       "<table border=\"1\" class=\"dataframe\">\n",
       "  <thead>\n",
       "    <tr style=\"text-align: right;\">\n",
       "      <th></th>\n",
       "      <th>t</th>\n",
       "      <th>si</th>\n",
       "      <th>AUS_c1</th>\n",
       "      <th>AUS_c2</th>\n",
       "      <th>AUS_c3</th>\n",
       "      <th>AUS_c4</th>\n",
       "      <th>AUS_c5</th>\n",
       "      <th>AUS_c6</th>\n",
       "      <th>AUS_c7</th>\n",
       "      <th>AUS_c8</th>\n",
       "      <th>...</th>\n",
       "      <th>NZL_F2</th>\n",
       "      <th>NZL_F3</th>\n",
       "      <th>NZL_F4</th>\n",
       "      <th>NZL_F5</th>\n",
       "      <th>RoW_F1</th>\n",
       "      <th>RoW_F2</th>\n",
       "      <th>RoW_F3</th>\n",
       "      <th>RoW_F4</th>\n",
       "      <th>RoW_F5</th>\n",
       "      <th>ToT</th>\n",
       "    </tr>\n",
       "  </thead>\n",
       "  <tbody>\n",
       "    <tr>\n",
       "      <th>0</th>\n",
       "      <td>2017</td>\n",
       "      <td>AUS_c1</td>\n",
       "      <td>12199.559183</td>\n",
       "      <td>214.280421</td>\n",
       "      <td>22912.845631</td>\n",
       "      <td>634.534126</td>\n",
       "      <td>54.032134</td>\n",
       "      <td>1754.892087</td>\n",
       "      <td>19.475614</td>\n",
       "      <td>19.776085</td>\n",
       "      <td>...</td>\n",
       "      <td>0.0</td>\n",
       "      <td>0.306421</td>\n",
       "      <td>4.398006</td>\n",
       "      <td>-2.632899</td>\n",
       "      <td>755.319306</td>\n",
       "      <td>0.000078</td>\n",
       "      <td>5.577177</td>\n",
       "      <td>9.456021</td>\n",
       "      <td>0.021587</td>\n",
       "      <td>76590.551093</td>\n",
       "    </tr>\n",
       "    <tr>\n",
       "      <th>1</th>\n",
       "      <td>2017</td>\n",
       "      <td>AUS_c2</td>\n",
       "      <td>250.316692</td>\n",
       "      <td>16671.934616</td>\n",
       "      <td>481.699583</td>\n",
       "      <td>9.676875</td>\n",
       "      <td>1.191425</td>\n",
       "      <td>44.117673</td>\n",
       "      <td>291.621069</td>\n",
       "      <td>1286.044207</td>\n",
       "      <td>...</td>\n",
       "      <td>0.0</td>\n",
       "      <td>0.000000</td>\n",
       "      <td>11.431150</td>\n",
       "      <td>21.523687</td>\n",
       "      <td>6.704805</td>\n",
       "      <td>0.001411</td>\n",
       "      <td>0.686634</td>\n",
       "      <td>28.234911</td>\n",
       "      <td>0.003934</td>\n",
       "      <td>219904.607558</td>\n",
       "    </tr>\n",
       "    <tr>\n",
       "      <th>2</th>\n",
       "      <td>2017</td>\n",
       "      <td>AUS_c3</td>\n",
       "      <td>1088.256793</td>\n",
       "      <td>320.590655</td>\n",
       "      <td>6280.283519</td>\n",
       "      <td>5.488313</td>\n",
       "      <td>162.329879</td>\n",
       "      <td>16.741351</td>\n",
       "      <td>36.602804</td>\n",
       "      <td>42.586943</td>\n",
       "      <td>...</td>\n",
       "      <td>0.0</td>\n",
       "      <td>0.000000</td>\n",
       "      <td>0.000000</td>\n",
       "      <td>15.801672</td>\n",
       "      <td>764.151993</td>\n",
       "      <td>0.019817</td>\n",
       "      <td>9.609331</td>\n",
       "      <td>0.000134</td>\n",
       "      <td>0.132746</td>\n",
       "      <td>68876.130878</td>\n",
       "    </tr>\n",
       "    <tr>\n",
       "      <th>3</th>\n",
       "      <td>2017</td>\n",
       "      <td>AUS_c4</td>\n",
       "      <td>18.164412</td>\n",
       "      <td>36.927218</td>\n",
       "      <td>21.299460</td>\n",
       "      <td>25.558736</td>\n",
       "      <td>1.896831</td>\n",
       "      <td>6.166664</td>\n",
       "      <td>19.265706</td>\n",
       "      <td>1.765148</td>\n",
       "      <td>...</td>\n",
       "      <td>0.0</td>\n",
       "      <td>0.000000</td>\n",
       "      <td>1.204813</td>\n",
       "      <td>-0.370723</td>\n",
       "      <td>155.353612</td>\n",
       "      <td>0.004976</td>\n",
       "      <td>1.319984</td>\n",
       "      <td>0.002417</td>\n",
       "      <td>-0.012125</td>\n",
       "      <td>3577.508549</td>\n",
       "    </tr>\n",
       "    <tr>\n",
       "      <th>4</th>\n",
       "      <td>2017</td>\n",
       "      <td>AUS_c5</td>\n",
       "      <td>3.681203</td>\n",
       "      <td>6.056107</td>\n",
       "      <td>7.035795</td>\n",
       "      <td>24.693916</td>\n",
       "      <td>15.141007</td>\n",
       "      <td>0.715095</td>\n",
       "      <td>12.437081</td>\n",
       "      <td>0.353283</td>\n",
       "      <td>...</td>\n",
       "      <td>0.0</td>\n",
       "      <td>0.000000</td>\n",
       "      <td>0.000000</td>\n",
       "      <td>-0.542867</td>\n",
       "      <td>23.747787</td>\n",
       "      <td>0.000040</td>\n",
       "      <td>0.246063</td>\n",
       "      <td>0.057996</td>\n",
       "      <td>0.829850</td>\n",
       "      <td>830.406474</td>\n",
       "    </tr>\n",
       "  </tbody>\n",
       "</table>\n",
       "<p>5 rows × 2923 columns</p>\n",
       "</div>"
      ],
      "text/plain": [
       "      t      si        AUS_c1        AUS_c2        AUS_c3      AUS_c4  \\\n",
       "0  2017  AUS_c1  12199.559183    214.280421  22912.845631  634.534126   \n",
       "1  2017  AUS_c2    250.316692  16671.934616    481.699583    9.676875   \n",
       "2  2017  AUS_c3   1088.256793    320.590655   6280.283519    5.488313   \n",
       "3  2017  AUS_c4     18.164412     36.927218     21.299460   25.558736   \n",
       "4  2017  AUS_c5      3.681203      6.056107      7.035795   24.693916   \n",
       "\n",
       "       AUS_c5       AUS_c6      AUS_c7       AUS_c8  ...  NZL_F2    NZL_F3  \\\n",
       "0   54.032134  1754.892087   19.475614    19.776085  ...     0.0  0.306421   \n",
       "1    1.191425    44.117673  291.621069  1286.044207  ...     0.0  0.000000   \n",
       "2  162.329879    16.741351   36.602804    42.586943  ...     0.0  0.000000   \n",
       "3    1.896831     6.166664   19.265706     1.765148  ...     0.0  0.000000   \n",
       "4   15.141007     0.715095   12.437081     0.353283  ...     0.0  0.000000   \n",
       "\n",
       "      NZL_F4     NZL_F5      RoW_F1    RoW_F2    RoW_F3     RoW_F4    RoW_F5  \\\n",
       "0   4.398006  -2.632899  755.319306  0.000078  5.577177   9.456021  0.021587   \n",
       "1  11.431150  21.523687    6.704805  0.001411  0.686634  28.234911  0.003934   \n",
       "2   0.000000  15.801672  764.151993  0.019817  9.609331   0.000134  0.132746   \n",
       "3   1.204813  -0.370723  155.353612  0.004976  1.319984   0.002417 -0.012125   \n",
       "4   0.000000  -0.542867   23.747787  0.000040  0.246063   0.057996  0.829850   \n",
       "\n",
       "             ToT  \n",
       "0   76590.551093  \n",
       "1  219904.607558  \n",
       "2   68876.130878  \n",
       "3    3577.508549  \n",
       "4     830.406474  \n",
       "\n",
       "[5 rows x 2923 columns]"
      ]
     },
     "execution_count": 3,
     "metadata": {},
     "output_type": "execute_result"
    }
   ],
   "source": [
    "duckdb.sql(f\"SELECT * FROM '{input_mrio}' LIMIT 5\").df()"
   ]
  },
  {
   "cell_type": "code",
   "execution_count": 4,
   "metadata": {},
   "outputs": [
    {
     "data": {
      "text/html": [
       "<div>\n",
       "<style scoped>\n",
       "    .dataframe tbody tr th:only-of-type {\n",
       "        vertical-align: middle;\n",
       "    }\n",
       "\n",
       "    .dataframe tbody tr th {\n",
       "        vertical-align: top;\n",
       "    }\n",
       "\n",
       "    .dataframe thead th {\n",
       "        text-align: right;\n",
       "    }\n",
       "</style>\n",
       "<table border=\"1\" class=\"dataframe\">\n",
       "  <thead>\n",
       "    <tr style=\"text-align: right;\">\n",
       "      <th></th>\n",
       "      <th>t</th>\n",
       "      <th>activity</th>\n",
       "      <th>gas</th>\n",
       "      <th>sector</th>\n",
       "      <th>AUS_c1</th>\n",
       "      <th>AUS_c2</th>\n",
       "      <th>AUS_c3</th>\n",
       "      <th>AUS_c4</th>\n",
       "      <th>AUS_c5</th>\n",
       "      <th>AUS_c6</th>\n",
       "      <th>...</th>\n",
       "      <th>NZL_F1</th>\n",
       "      <th>NZL_F2</th>\n",
       "      <th>NZL_F3</th>\n",
       "      <th>NZL_F4</th>\n",
       "      <th>NZL_F5</th>\n",
       "      <th>RoW_F1</th>\n",
       "      <th>RoW_F2</th>\n",
       "      <th>RoW_F3</th>\n",
       "      <th>RoW_F4</th>\n",
       "      <th>RoW_F5</th>\n",
       "    </tr>\n",
       "  </thead>\n",
       "  <tbody>\n",
       "    <tr>\n",
       "      <th>0</th>\n",
       "      <td>2017</td>\n",
       "      <td>Main Activity Electricity and Heat Production</td>\n",
       "      <td>CO2</td>\n",
       "      <td>Energy</td>\n",
       "      <td>0.000000</td>\n",
       "      <td>0.000000</td>\n",
       "      <td>0.000000</td>\n",
       "      <td>0.000000</td>\n",
       "      <td>0.000000</td>\n",
       "      <td>0.000000</td>\n",
       "      <td>...</td>\n",
       "      <td>0.000000</td>\n",
       "      <td>0.0</td>\n",
       "      <td>0.0</td>\n",
       "      <td>0.0</td>\n",
       "      <td>0.0</td>\n",
       "      <td>0.000000</td>\n",
       "      <td>0.0</td>\n",
       "      <td>0.0</td>\n",
       "      <td>0.0</td>\n",
       "      <td>0.0</td>\n",
       "    </tr>\n",
       "    <tr>\n",
       "      <th>1</th>\n",
       "      <td>2017</td>\n",
       "      <td>Petroleum Refining - Manufacture of Solid Fuel...</td>\n",
       "      <td>CO2</td>\n",
       "      <td>Energy</td>\n",
       "      <td>0.000000</td>\n",
       "      <td>0.000000</td>\n",
       "      <td>0.000000</td>\n",
       "      <td>0.000000</td>\n",
       "      <td>0.000000</td>\n",
       "      <td>0.000000</td>\n",
       "      <td>...</td>\n",
       "      <td>0.000000</td>\n",
       "      <td>0.0</td>\n",
       "      <td>0.0</td>\n",
       "      <td>0.0</td>\n",
       "      <td>0.0</td>\n",
       "      <td>0.000000</td>\n",
       "      <td>0.0</td>\n",
       "      <td>0.0</td>\n",
       "      <td>0.0</td>\n",
       "      <td>0.0</td>\n",
       "    </tr>\n",
       "    <tr>\n",
       "      <th>2</th>\n",
       "      <td>2017</td>\n",
       "      <td>Manufacturing Industries and Construction</td>\n",
       "      <td>CO2</td>\n",
       "      <td>Energy</td>\n",
       "      <td>193.561566</td>\n",
       "      <td>8700.295764</td>\n",
       "      <td>5408.680335</td>\n",
       "      <td>134.406273</td>\n",
       "      <td>18.756567</td>\n",
       "      <td>1832.034981</td>\n",
       "      <td>...</td>\n",
       "      <td>0.000000</td>\n",
       "      <td>0.0</td>\n",
       "      <td>0.0</td>\n",
       "      <td>0.0</td>\n",
       "      <td>0.0</td>\n",
       "      <td>0.000000</td>\n",
       "      <td>0.0</td>\n",
       "      <td>0.0</td>\n",
       "      <td>0.0</td>\n",
       "      <td>0.0</td>\n",
       "    </tr>\n",
       "    <tr>\n",
       "      <th>3</th>\n",
       "      <td>2017</td>\n",
       "      <td>Civil Aviation</td>\n",
       "      <td>CO2</td>\n",
       "      <td>Energy</td>\n",
       "      <td>0.000000</td>\n",
       "      <td>0.000000</td>\n",
       "      <td>0.000000</td>\n",
       "      <td>0.000000</td>\n",
       "      <td>0.000000</td>\n",
       "      <td>0.000000</td>\n",
       "      <td>...</td>\n",
       "      <td>0.000000</td>\n",
       "      <td>0.0</td>\n",
       "      <td>0.0</td>\n",
       "      <td>0.0</td>\n",
       "      <td>0.0</td>\n",
       "      <td>0.000000</td>\n",
       "      <td>0.0</td>\n",
       "      <td>0.0</td>\n",
       "      <td>0.0</td>\n",
       "      <td>0.0</td>\n",
       "    </tr>\n",
       "    <tr>\n",
       "      <th>4</th>\n",
       "      <td>2017</td>\n",
       "      <td>Road Transportation no resuspension</td>\n",
       "      <td>CO2</td>\n",
       "      <td>Energy</td>\n",
       "      <td>5336.520981</td>\n",
       "      <td>11666.858886</td>\n",
       "      <td>132.526289</td>\n",
       "      <td>54.347547</td>\n",
       "      <td>20.084639</td>\n",
       "      <td>35.335576</td>\n",
       "      <td>...</td>\n",
       "      <td>5704.711278</td>\n",
       "      <td>0.0</td>\n",
       "      <td>0.0</td>\n",
       "      <td>0.0</td>\n",
       "      <td>0.0</td>\n",
       "      <td>293028.417851</td>\n",
       "      <td>0.0</td>\n",
       "      <td>0.0</td>\n",
       "      <td>0.0</td>\n",
       "      <td>0.0</td>\n",
       "    </tr>\n",
       "  </tbody>\n",
       "</table>\n",
       "<p>5 rows × 2924 columns</p>\n",
       "</div>"
      ],
      "text/plain": [
       "      t                                           activity  gas  sector  \\\n",
       "0  2017      Main Activity Electricity and Heat Production  CO2  Energy   \n",
       "1  2017  Petroleum Refining - Manufacture of Solid Fuel...  CO2  Energy   \n",
       "2  2017          Manufacturing Industries and Construction  CO2  Energy   \n",
       "3  2017                                     Civil Aviation  CO2  Energy   \n",
       "4  2017                Road Transportation no resuspension  CO2  Energy   \n",
       "\n",
       "        AUS_c1        AUS_c2       AUS_c3      AUS_c4     AUS_c5       AUS_c6  \\\n",
       "0     0.000000      0.000000     0.000000    0.000000   0.000000     0.000000   \n",
       "1     0.000000      0.000000     0.000000    0.000000   0.000000     0.000000   \n",
       "2   193.561566   8700.295764  5408.680335  134.406273  18.756567  1832.034981   \n",
       "3     0.000000      0.000000     0.000000    0.000000   0.000000     0.000000   \n",
       "4  5336.520981  11666.858886   132.526289   54.347547  20.084639    35.335576   \n",
       "\n",
       "   ...       NZL_F1  NZL_F2  NZL_F3  NZL_F4  NZL_F5         RoW_F1  RoW_F2  \\\n",
       "0  ...     0.000000     0.0     0.0     0.0     0.0       0.000000     0.0   \n",
       "1  ...     0.000000     0.0     0.0     0.0     0.0       0.000000     0.0   \n",
       "2  ...     0.000000     0.0     0.0     0.0     0.0       0.000000     0.0   \n",
       "3  ...     0.000000     0.0     0.0     0.0     0.0       0.000000     0.0   \n",
       "4  ...  5704.711278     0.0     0.0     0.0     0.0  293028.417851     0.0   \n",
       "\n",
       "   RoW_F3  RoW_F4  RoW_F5  \n",
       "0     0.0     0.0     0.0  \n",
       "1     0.0     0.0     0.0  \n",
       "2     0.0     0.0     0.0  \n",
       "3     0.0     0.0     0.0  \n",
       "4     0.0     0.0     0.0  \n",
       "\n",
       "[5 rows x 2924 columns]"
      ]
     },
     "execution_count": 4,
     "metadata": {},
     "output_type": "execute_result"
    }
   ],
   "source": [
    "duckdb.sql(f\"SELECT * FROM '{input_ee}' LIMIT 5\").df()"
   ]
  },
  {
   "cell_type": "markdown",
   "metadata": {},
   "source": [
    "The `MRIO` and `EE` classes extract all relevant matrices and vectors from the MRIO to facilitate matrix operations. The `MRIO` class accepts the arguments `file_path` and `year` while the `EE` class accepts the arguments `file_path`, `year`, and `by`. The argument `by` can have value `None` (default), `gas`, or `sector`. This determines how the EE matrix is aggregated.\n",
    "\n",
    "To demonstrate:"
   ]
  },
  {
   "cell_type": "code",
   "execution_count": 5,
   "metadata": {},
   "outputs": [],
   "source": [
    "year = 2021\n",
    "mrio = MRIO(f'{input_mrio}', year)\n",
    "ee = EE(f'{input_ee}', year, by='gas')"
   ]
  },
  {
   "cell_type": "code",
   "execution_count": 6,
   "metadata": {},
   "outputs": [
    {
     "data": {
      "text/plain": [
       "(2555,)"
      ]
     },
     "execution_count": 6,
     "metadata": {},
     "output_type": "execute_result"
    }
   ],
   "source": [
    "x = mrio.x\n",
    "x.shape"
   ]
  },
  {
   "cell_type": "code",
   "execution_count": 7,
   "metadata": {},
   "outputs": [
    {
     "data": {
      "text/plain": [
       "(4, 2555)"
      ]
     },
     "execution_count": 7,
     "metadata": {},
     "output_type": "execute_result"
    }
   ],
   "source": [
    "E = ee.E\n",
    "E.shape"
   ]
  },
  {
   "cell_type": "markdown",
   "metadata": {},
   "source": [
    "The matrix `E` is a `4x(G*N)` matrix where the rows are the four types of gases in the EE-MRIO (by virtue of having set `by = 'gas'` in the `EE` instantiation). The gases can be called using the `rows` property:"
   ]
  },
  {
   "cell_type": "code",
   "execution_count": 8,
   "metadata": {},
   "outputs": [
    {
     "data": {
      "text/plain": [
       "array([['CH4'],\n",
       "       ['CO2'],\n",
       "       ['GWP_100_AR5_F-gases'],\n",
       "       ['N2O']], dtype=object)"
      ]
     },
     "execution_count": 8,
     "metadata": {},
     "output_type": "execute_result"
    }
   ],
   "source": [
    "ee.rows"
   ]
  },
  {
   "cell_type": "markdown",
   "metadata": {},
   "source": [
    "Computing the `EBY` matrix requires dividing the `E` matrix by the output vector `x`. This is done using the built-in `diag()` method:"
   ]
  },
  {
   "cell_type": "code",
   "execution_count": 9,
   "metadata": {},
   "outputs": [
    {
     "data": {
      "text/plain": [
       "(4, 2555)"
      ]
     },
     "execution_count": 9,
     "metadata": {},
     "output_type": "execute_result"
    }
   ],
   "source": [
    "e = E @ (1/x).diag()\n",
    "e.shape"
   ]
  },
  {
   "cell_type": "markdown",
   "metadata": {},
   "source": [
    "## Demo with dummy MRIO\n",
    "\n",
    "The best way to demonstrate the uses of the `MRIO` class is by example. The following dummy MRIO will be used. This has three countries, two sectors, one final demand category, and one value added category."
   ]
  },
  {
   "cell_type": "code",
   "execution_count": 10,
   "metadata": {},
   "outputs": [
    {
     "data": {
      "text/html": [
       "<div>\n",
       "<style scoped>\n",
       "    .dataframe tbody tr th:only-of-type {\n",
       "        vertical-align: middle;\n",
       "    }\n",
       "\n",
       "    .dataframe tbody tr th {\n",
       "        vertical-align: top;\n",
       "    }\n",
       "\n",
       "    .dataframe thead th {\n",
       "        text-align: right;\n",
       "    }\n",
       "</style>\n",
       "<table border=\"1\" class=\"dataframe\">\n",
       "  <thead>\n",
       "    <tr style=\"text-align: right;\">\n",
       "      <th></th>\n",
       "      <th>t</th>\n",
       "      <th>si</th>\n",
       "      <th>C1</th>\n",
       "      <th>C2</th>\n",
       "      <th>J1</th>\n",
       "      <th>J2</th>\n",
       "      <th>U1</th>\n",
       "      <th>U2</th>\n",
       "      <th>Cf</th>\n",
       "      <th>Jf</th>\n",
       "      <th>Uf</th>\n",
       "      <th>ToT</th>\n",
       "    </tr>\n",
       "  </thead>\n",
       "  <tbody>\n",
       "    <tr>\n",
       "      <th>0</th>\n",
       "      <td>2020</td>\n",
       "      <td>C1</td>\n",
       "      <td>0</td>\n",
       "      <td>0</td>\n",
       "      <td>0</td>\n",
       "      <td>2.0</td>\n",
       "      <td>0</td>\n",
       "      <td>0</td>\n",
       "      <td>1.0</td>\n",
       "      <td>0.0</td>\n",
       "      <td>0.0</td>\n",
       "      <td>3.0</td>\n",
       "    </tr>\n",
       "    <tr>\n",
       "      <th>1</th>\n",
       "      <td>2020</td>\n",
       "      <td>C2</td>\n",
       "      <td>0</td>\n",
       "      <td>0</td>\n",
       "      <td>0</td>\n",
       "      <td>0.0</td>\n",
       "      <td>0</td>\n",
       "      <td>0</td>\n",
       "      <td>1.0</td>\n",
       "      <td>0.0</td>\n",
       "      <td>0.0</td>\n",
       "      <td>1.0</td>\n",
       "    </tr>\n",
       "    <tr>\n",
       "      <th>2</th>\n",
       "      <td>2020</td>\n",
       "      <td>J1</td>\n",
       "      <td>0</td>\n",
       "      <td>0</td>\n",
       "      <td>0</td>\n",
       "      <td>0.0</td>\n",
       "      <td>0</td>\n",
       "      <td>0</td>\n",
       "      <td>0.0</td>\n",
       "      <td>2.0</td>\n",
       "      <td>0.0</td>\n",
       "      <td>2.0</td>\n",
       "    </tr>\n",
       "    <tr>\n",
       "      <th>3</th>\n",
       "      <td>2020</td>\n",
       "      <td>J2</td>\n",
       "      <td>0</td>\n",
       "      <td>0</td>\n",
       "      <td>0</td>\n",
       "      <td>0.0</td>\n",
       "      <td>0</td>\n",
       "      <td>0</td>\n",
       "      <td>0.0</td>\n",
       "      <td>1.0</td>\n",
       "      <td>2.5</td>\n",
       "      <td>3.5</td>\n",
       "    </tr>\n",
       "    <tr>\n",
       "      <th>4</th>\n",
       "      <td>2020</td>\n",
       "      <td>U1</td>\n",
       "      <td>0</td>\n",
       "      <td>0</td>\n",
       "      <td>0</td>\n",
       "      <td>0.0</td>\n",
       "      <td>0</td>\n",
       "      <td>0</td>\n",
       "      <td>0.0</td>\n",
       "      <td>0.0</td>\n",
       "      <td>2.0</td>\n",
       "      <td>2.0</td>\n",
       "    </tr>\n",
       "    <tr>\n",
       "      <th>5</th>\n",
       "      <td>2020</td>\n",
       "      <td>U2</td>\n",
       "      <td>0</td>\n",
       "      <td>0</td>\n",
       "      <td>0</td>\n",
       "      <td>0.0</td>\n",
       "      <td>0</td>\n",
       "      <td>0</td>\n",
       "      <td>0.0</td>\n",
       "      <td>0.0</td>\n",
       "      <td>1.0</td>\n",
       "      <td>1.0</td>\n",
       "    </tr>\n",
       "    <tr>\n",
       "      <th>6</th>\n",
       "      <td>2020</td>\n",
       "      <td>VA</td>\n",
       "      <td>3</td>\n",
       "      <td>1</td>\n",
       "      <td>2</td>\n",
       "      <td>1.5</td>\n",
       "      <td>2</td>\n",
       "      <td>1</td>\n",
       "      <td>NaN</td>\n",
       "      <td>NaN</td>\n",
       "      <td>NaN</td>\n",
       "      <td>NaN</td>\n",
       "    </tr>\n",
       "    <tr>\n",
       "      <th>7</th>\n",
       "      <td>2020</td>\n",
       "      <td>ToT</td>\n",
       "      <td>3</td>\n",
       "      <td>1</td>\n",
       "      <td>2</td>\n",
       "      <td>3.5</td>\n",
       "      <td>2</td>\n",
       "      <td>1</td>\n",
       "      <td>NaN</td>\n",
       "      <td>NaN</td>\n",
       "      <td>NaN</td>\n",
       "      <td>NaN</td>\n",
       "    </tr>\n",
       "  </tbody>\n",
       "</table>\n",
       "</div>"
      ],
      "text/plain": [
       "      t   si  C1  C2  J1   J2  U1  U2   Cf   Jf   Uf  ToT\n",
       "0  2020   C1   0   0   0  2.0   0   0  1.0  0.0  0.0  3.0\n",
       "1  2020   C2   0   0   0  0.0   0   0  1.0  0.0  0.0  1.0\n",
       "2  2020   J1   0   0   0  0.0   0   0  0.0  2.0  0.0  2.0\n",
       "3  2020   J2   0   0   0  0.0   0   0  0.0  1.0  2.5  3.5\n",
       "4  2020   U1   0   0   0  0.0   0   0  0.0  0.0  2.0  2.0\n",
       "5  2020   U2   0   0   0  0.0   0   0  0.0  0.0  1.0  1.0\n",
       "6  2020   VA   3   1   2  1.5   2   1  NaN  NaN  NaN  NaN\n",
       "7  2020  ToT   3   1   2  3.5   2   1  NaN  NaN  NaN  NaN"
      ]
     },
     "execution_count": 10,
     "metadata": {},
     "output_type": "execute_result"
    }
   ],
   "source": [
    "duckdb.sql(\"SELECT * FROM '../data/dummy_mrio.parquet'\").df()"
   ]
  },
  {
   "cell_type": "markdown",
   "metadata": {},
   "source": [
    "This is loaded as an instance of the `MRIO` class."
   ]
  },
  {
   "cell_type": "code",
   "execution_count": 11,
   "metadata": {},
   "outputs": [],
   "source": [
    "mrio = MRIO('../data/dummy_mrio.parquet', year=2020, N=2, f=1, vc=1, full=True)"
   ]
  },
  {
   "cell_type": "markdown",
   "metadata": {},
   "source": [
    "The key vectors and matrices of the MRIO are accessible via properties. It will be useful to save them as variables."
   ]
  },
  {
   "cell_type": "code",
   "execution_count": 12,
   "metadata": {},
   "outputs": [],
   "source": [
    "x = mrio.x\n",
    "Z = mrio.Z\n",
    "va = mrio.va\n",
    "Y = mrio.Y\n",
    "A = mrio.A\n",
    "B = mrio.B"
   ]
  },
  {
   "cell_type": "markdown",
   "metadata": {},
   "source": [
    "The values of each can be accessed with the `data` property. To illustrate with the intermediates matrix Z:"
   ]
  },
  {
   "cell_type": "code",
   "execution_count": 13,
   "metadata": {},
   "outputs": [
    {
     "data": {
      "text/plain": [
       "array([[0., 0., 0., 2., 0., 0.],\n",
       "       [0., 0., 0., 0., 0., 0.],\n",
       "       [0., 0., 0., 0., 0., 0.],\n",
       "       [0., 0., 0., 0., 0., 0.],\n",
       "       [0., 0., 0., 0., 0., 0.],\n",
       "       [0., 0., 0., 0., 0., 0.]])"
      ]
     },
     "execution_count": 13,
     "metadata": {},
     "output_type": "execute_result"
    }
   ],
   "source": [
    "Z.data"
   ]
  },
  {
   "cell_type": "markdown",
   "metadata": {},
   "source": [
    "The following methods are built into the `MRIO` class. These help rearrange and manipulate the MRIO elements for IO computations, particularly exports decomposition. Some of these are discussed in more detail below.\n",
    "\n",
    "- `diag()`: wrapper for `np.diag()`\n",
    "- `invert()`: wrapper for `np.linalg.inv()`\n",
    "- `kron()`: wrapper for `np.kron()`\n",
    "- `t()`: wrapper for `np.transpose()`\n",
    "- `col_sum(chunk=None)` and `row_sum(chunk=None)`\n",
    "- `subset(row=None, col=None)`\n",
    "- `asvector()`\n",
    "- `zeroout(row=None, col=None, inverse=False)`\n",
    "- `get_fatdiag()`\n",
    "- `diagvec()`\n",
    "- `diagmat(offd=False)`\n",
    "- `diagrow()`\n",
    "- `diagstack(by='row')`"
   ]
  },
  {
   "cell_type": "markdown",
   "metadata": {},
   "source": [
    "### `subset()`\n",
    "\n",
    "Subsets a vector or matrix by the country index. For example, to get the portion of the Z matrix corresponding to country 1 exports of intermediates to countries 2 and 3, simply write:"
   ]
  },
  {
   "cell_type": "code",
   "execution_count": 14,
   "metadata": {},
   "outputs": [
    {
     "name": "stdout",
     "output_type": "stream",
     "text": [
      "Z =\n",
      " [[0. 0. 0. 2. 0. 0.]\n",
      " [0. 0. 0. 0. 0. 0.]\n",
      " [0. 0. 0. 0. 0. 0.]\n",
      " [0. 0. 0. 0. 0. 0.]\n",
      " [0. 0. 0. 0. 0. 0.]\n",
      " [0. 0. 0. 0. 0. 0.]] \n",
      "\n",
      "Z.subset(row=1, col=[2, 3]) = \n",
      " [[0. 2. 0. 0.]\n",
      " [0. 0. 0. 0.]]\n"
     ]
    }
   ],
   "source": [
    "print('Z =\\n', Z.data, '\\n\\nZ.subset(row=1, col=[2, 3]) = \\n', Z.subset(row=1, col=[2, 3]).data)"
   ]
  },
  {
   "cell_type": "markdown",
   "metadata": {},
   "source": [
    "If either `row` or `col` is not specified, then the all countries are returned. If a negative index is supplied, then everything but that country is returned."
   ]
  },
  {
   "cell_type": "code",
   "execution_count": 15,
   "metadata": {},
   "outputs": [
    {
     "name": "stdout",
     "output_type": "stream",
     "text": [
      "Y =\n",
      " [[1.  0.  0. ]\n",
      " [1.  0.  0. ]\n",
      " [0.  2.  0. ]\n",
      " [0.  1.  2.5]\n",
      " [0.  0.  2. ]\n",
      " [0.  0.  1. ]] \n",
      "\n",
      "Y.subset(col=[-2]) = \n",
      " [[1.  0. ]\n",
      " [1.  0. ]\n",
      " [0.  0. ]\n",
      " [0.  2.5]\n",
      " [0.  2. ]\n",
      " [0.  1. ]]\n"
     ]
    }
   ],
   "source": [
    "print('Y =\\n', Y.data, '\\n\\nY.subset(col=[-2]) = \\n', Y.subset(col=[-2]).data)"
   ]
  },
  {
   "cell_type": "markdown",
   "metadata": {},
   "source": [
    "### `diagstack(by='row')`\n",
    "\n",
    "Diagonalizes each row (default) or column of a matrix and stacks them vertically or horizontally."
   ]
  },
  {
   "cell_type": "code",
   "execution_count": 16,
   "metadata": {},
   "outputs": [
    {
     "name": "stdout",
     "output_type": "stream",
     "text": [
      "Y =\n",
      " [[1.  0.  0. ]\n",
      " [1.  0.  0. ]\n",
      " [0.  2.  0. ]\n",
      " [0.  1.  2.5]\n",
      " [0.  0.  2. ]\n",
      " [0.  0.  1. ]] \n",
      "\n",
      "Y.diagstack() = \n",
      " [[1.  0.  0. ]\n",
      " [0.  0.  0. ]\n",
      " [0.  0.  0. ]\n",
      " [1.  0.  0. ]\n",
      " [0.  0.  0. ]\n",
      " [0.  0.  0. ]\n",
      " [0.  0.  0. ]\n",
      " [0.  2.  0. ]\n",
      " [0.  0.  0. ]\n",
      " [0.  0.  0. ]\n",
      " [0.  1.  0. ]\n",
      " [0.  0.  2.5]\n",
      " [0.  0.  0. ]\n",
      " [0.  0.  0. ]\n",
      " [0.  0.  2. ]\n",
      " [0.  0.  0. ]\n",
      " [0.  0.  0. ]\n",
      " [0.  0.  1. ]]\n"
     ]
    }
   ],
   "source": [
    "print('Y =\\n', Y.data, '\\n\\nY.diagstack() = \\n', Y.diagstack().data)"
   ]
  },
  {
   "cell_type": "markdown",
   "metadata": {},
   "source": [
    "### Other notes\n",
    "\n",
    "Methods can be chained. For example, the following sums the Y matrix by rows then diagonalizes it."
   ]
  },
  {
   "cell_type": "code",
   "execution_count": 17,
   "metadata": {},
   "outputs": [
    {
     "name": "stdout",
     "output_type": "stream",
     "text": [
      "Y =\n",
      " [[1.  0.  0. ]\n",
      " [1.  0.  0. ]\n",
      " [0.  2.  0. ]\n",
      " [0.  1.  2.5]\n",
      " [0.  0.  2. ]\n",
      " [0.  0.  1. ]] \n",
      "\n",
      "Y.row_sum().diag() = \n",
      " [[1.  0.  0.  0.  0.  0. ]\n",
      " [0.  1.  0.  0.  0.  0. ]\n",
      " [0.  0.  2.  0.  0.  0. ]\n",
      " [0.  0.  0.  3.5 0.  0. ]\n",
      " [0.  0.  0.  0.  2.  0. ]\n",
      " [0.  0.  0.  0.  0.  1. ]]\n"
     ]
    }
   ],
   "source": [
    "print('Y =\\n', Y.data, '\\n\\nY.row_sum().diag() = \\n', Y.row_sum().diag().data)"
   ]
  }
 ],
 "metadata": {
  "kernelspec": {
   "display_name": "adb",
   "language": "python",
   "name": "python3"
  },
  "language_info": {
   "codemirror_mode": {
    "name": "ipython",
    "version": 3
   },
   "file_extension": ".py",
   "mimetype": "text/x-python",
   "name": "python",
   "nbconvert_exporter": "python",
   "pygments_lexer": "ipython3",
   "version": "3.10.7"
  }
 },
 "nbformat": 4,
 "nbformat_minor": 2
}
