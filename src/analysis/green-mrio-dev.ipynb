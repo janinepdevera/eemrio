{
 "cells": [
  {
   "cell_type": "markdown",
   "metadata": {},
   "source": [
    "# Green Manufacturing"
   ]
  },
  {
   "cell_type": "code",
   "execution_count": 1,
   "metadata": {},
   "outputs": [],
   "source": [
    "import sys\n",
    "import os\n",
    "\n",
    "sys.path.append('/Users/janinedevera/Documents/ADB/Climate/eemrio/src')\n",
    "os.chdir('/Users/janinedevera/Documents/ADB/Climate/eemrio/')"
   ]
  },
  {
   "cell_type": "code",
   "execution_count": 2,
   "metadata": {},
   "outputs": [],
   "source": [
    "import pandas as pd\n",
    "import numpy as np\n",
    "import duckdb\n",
    "from mriomain import mrio"
   ]
  },
  {
   "cell_type": "markdown",
   "metadata": {},
   "source": [
    "## I. Load Data"
   ]
  },
  {
   "cell_type": "code",
   "execution_count": 182,
   "metadata": {},
   "outputs": [],
   "source": [
    "input_mrio = './data/mrio.parquet'\n",
    "input_ee = './data/ee.parquet'\n",
    "countries_mapping = pd.read_excel('./data/raw/countries.xlsx').drop_duplicates(subset=['iso_a3'], keep='last')\n",
    "sectors_mapping = pd.read_csv('./data/raw/sectors.csv')\n",
    "\n",
    "years = [2017, 2018, 2019, 2020, 2021, 2022]"
   ]
  },
  {
   "cell_type": "code",
   "execution_count": 4,
   "metadata": {},
   "outputs": [],
   "source": [
    "# column labels\n",
    "df = duckdb.sql(f\"SELECT * FROM '{input_ee}'\").df()\n",
    "labels = df.columns[4:2559].to_frame(index=False)[0].str.split(\"_\", expand=True)\n",
    "labels = labels.set_axis(['country', 'mrio_sector'], axis=1)\n",
    "\n",
    "# mapping: ghg sectors\n",
    "ghg_sectors = sorted(df['sector'].unique().tolist())\n",
    "\n",
    "# mapping: mrio sectors\n",
    "sectors_map = sectors_mapping.iloc[:, 0:3]\n",
    "sectors_map['mrio_sector'] = 'c' + sectors_map['c_ind'].astype(str)\n",
    "sectors_map = sectors_map.rename(columns={'c_ind': 'sector_no', 'c_name': 'sector_name', 'c_name_short': 'sector_name_short'})\n",
    "agg_map = sectors_mapping.iloc[:, [0, 5]]\n",
    "\n",
    "# mapping: regions\n",
    "region_map = countries_mapping.iloc[:, [8,12]]\n",
    "\n",
    "# industrial sectors \n",
    "ind_sectors = [f\"c{i}\" for i in range(3, 16+1)]"
   ]
  },
  {
   "cell_type": "code",
   "execution_count": 185,
   "metadata": {},
   "outputs": [],
   "source": [
    "# baci data\n",
    "baci_years = [filename for filename in os.listdir('./data/raw/baci/') if filename.startswith(\"BACI_\")]\n",
    "\n",
    "country_codes = pd.read_csv('./data/raw/baci/country_codes_V202401b.csv')\n",
    "product_codes = pd.read_csv('./data/raw/baci/product_codes_HS17_V202401b.csv')\n",
    "\n",
    "# adb mapping\n",
    "mrio_mapping = pd.read_excel('./data/raw/product-correspondence.xlsx').drop_duplicates(subset=['HS17'], keep='first')\n",
    "countries_mapping = pd.read_excel('./data/raw/countries.xlsx')\n",
    "\n",
    "# industrial sectors \n",
    "ind_sectors = [f\"c{i}\" for i in range(3, 16+1)]"
   ]
  },
  {
   "cell_type": "code",
   "execution_count": null,
   "metadata": {},
   "outputs": [],
   "source": [
    "# combine data for all years\n",
    "# temp_list = []\n",
    "\n",
    "# for filename in baci_years:\n",
    "#     filepath = os.path.join('./data/raw/baci/', filename)\n",
    "#     df = pd.read_csv(filepath)  \n",
    "#     temp_list.append(df) \n",
    "\n",
    "# baci_raw = pd.concat(temp_list, ignore_index=True).drop(columns=['q'])\n",
    "# baci_raw.columns = ['year', 'exporter', 'importer', 'product', 'value']\n",
    "# baci_raw['value'] = pd.to_numeric(baci_raw['value'])"
   ]
  },
  {
   "cell_type": "code",
   "execution_count": 54,
   "metadata": {},
   "outputs": [],
   "source": [
    "# mrio value added data\n",
    "gva = pd.DataFrame()\n",
    "for year in years: \n",
    "    temp = mrio.MRIO(f'{input_mrio}', year)\n",
    "    gva[year] = temp.va.data\n",
    "\n",
    "gva = pd.concat([labels, gva], axis=1)\n",
    "gva = pd.melt(gva, id_vars=['country', 'mrio_sector'], value_vars=[2017, 2018, 2019, 2020, 2021, 2022]).rename(columns={\"value\": \"total_gva\", \"variable\": \"year\"})"
   ]
  },
  {
   "cell_type": "code",
   "execution_count": null,
   "metadata": {},
   "outputs": [],
   "source": [
    "gva_2022 = gva[gva['year'] == 2022]"
   ]
  },
  {
   "cell_type": "markdown",
   "metadata": {},
   "source": [
    "## II. Process "
   ]
  },
  {
   "cell_type": "markdown",
   "metadata": {},
   "source": [
    "### A. MRIO"
   ]
  },
  {
   "cell_type": "code",
   "execution_count": 200,
   "metadata": {},
   "outputs": [],
   "source": [
    "# get unique country-sector combinations \n",
    "mrio_list = gva[['country', 'mrio_sector']].drop_duplicates()\n",
    "\n",
    "# map to metadata\n",
    "mrio_list = pd.merge(mrio_list, sectors_map, on='mrio_sector')\n",
    "mrio_list = pd.merge(mrio_list, agg_map, left_on='sector_no', right_on='c_ind').drop(columns=['c_ind'])\n",
    "mrio_list = pd.merge(mrio_list, region_map, left_on='country', right_on='code', how='left').drop(columns=['code'])"
   ]
  },
  {
   "cell_type": "markdown",
   "metadata": {},
   "source": [
    "### B. BACI"
   ]
  },
  {
   "cell_type": "code",
   "execution_count": 6,
   "metadata": {},
   "outputs": [],
   "source": [
    "filepath = os.path.join('./data/raw/baci/', 'BACI_HS17_Y2022_V202401b.csv')\n",
    "df = pd.read_csv(filepath).drop(columns=['q'])\n",
    "\n",
    "df.columns = ['year', 'exporter', 'importer', 'product', 'value']\n",
    "df['value'] = pd.to_numeric(df['value'])"
   ]
  },
  {
   "cell_type": "code",
   "execution_count": 8,
   "metadata": {},
   "outputs": [],
   "source": [
    "# aggregate importers \n",
    "baci_agg = (\n",
    "    df\n",
    "    .groupby(['year', 'exporter', 'product'])\n",
    "    .agg('sum').reset_index()\n",
    "    .drop(columns=['importer'])\n",
    "    .rename(columns={\"value\": \"export_val\"})\n",
    ")\n",
    "\n",
    "# map to country and product names\n",
    "baci = pd.merge(baci_agg, country_codes, left_on='exporter', right_on='country_code').drop(columns=['country_code'])\n",
    "baci = pd.merge(baci, product_codes, left_on='product', right_on='code').drop(columns=['code'])\n",
    "\n",
    "# extract mrio countries\n",
    "countries_mapping = countries_mapping[['iso_a3', 'code', 'name_adb', 'region_wb', 'mrio', 'region']]\n",
    "\n",
    "baci_mrio = (pd.merge(baci, countries_mapping, left_on='country_iso3', right_on='iso_a3'))\n",
    "baci_mrio = baci_mrio[baci_mrio['mrio'].notna()].reset_index()"
   ]
  },
  {
   "cell_type": "code",
   "execution_count": 16,
   "metadata": {},
   "outputs": [],
   "source": [
    "# load UNIDO green products list \n",
    "green_list = pd.read_excel('./data/raw/UNIDO-green-product-list-2022.xlsx').iloc[: , 1:]\n",
    "#green_list = green_list['HS CODE'].to_list()"
   ]
  },
  {
   "cell_type": "code",
   "execution_count": 29,
   "metadata": {},
   "outputs": [],
   "source": [
    "# identify green products\n",
    "baci_merge = (pd.merge(baci_mrio, green_list, left_on='product', right_on='HS CODE', how='left'))\n",
    "baci_merge = baci_merge.drop(['index', 'HS CODE', 'Product', 'Source', 'ISIC3', 'ISIC4'], axis=1)\n",
    "baci_merge['EA'] = baci_merge['EA'].fillna('NG')\n"
   ]
  },
  {
   "cell_type": "code",
   "execution_count": 32,
   "metadata": {},
   "outputs": [
    {
     "data": {
      "text/plain": [
       "EA\n",
       "NG    295861\n",
       "PC      6970\n",
       "EC      3732\n",
       "RC      3017\n",
       "RE      2248\n",
       "Name: count, dtype: int64"
      ]
     },
     "execution_count": 32,
     "metadata": {},
     "output_type": "execute_result"
    }
   ],
   "source": [
    "baci_merge['EA'].value_counts()"
   ]
  },
  {
   "cell_type": "code",
   "execution_count": 41,
   "metadata": {},
   "outputs": [
    {
     "data": {
      "text/plain": [
       "MRIOsec\n",
       "c4     44037\n",
       "c9     43673\n",
       "c12    35062\n",
       "c13    30137\n",
       "c3     26604\n",
       "c14    24033\n",
       "c1     14706\n",
       "c16    10638\n",
       "c11     9132\n",
       "c7      8462\n",
       "c15     7755\n",
       "c10     7260\n",
       "c2      5195\n",
       "c5      4254\n",
       "c6      3278\n",
       "c8      1050\n",
       "c34      624\n",
       "c17      187\n",
       "c30      173\n",
       "Name: count, dtype: int64"
      ]
     },
     "execution_count": 41,
     "metadata": {},
     "output_type": "execute_result"
    }
   ],
   "source": [
    "baci_full = (pd.merge(baci_merge, mrio_mapping, left_on='product', right_on='HS17')).drop(columns=['HS2002'])\n",
    "#baci_full['MRIOsec'].value_counts()"
   ]
  },
  {
   "cell_type": "markdown",
   "metadata": {},
   "source": [
    "### C. Calculate green exports share"
   ]
  },
  {
   "cell_type": "code",
   "execution_count": 100,
   "metadata": {},
   "outputs": [],
   "source": [
    "# exports: green shares per sector\n",
    "sector_df = (\n",
    "    baci_full[['year', 'country_iso3', 'code', 'name_adb', 'region', 'MRIOsec', 'MRIOdesc', 'EA', 'export_val']]\n",
    "    .groupby(['year', 'country_iso3', 'code', 'name_adb', 'region', 'MRIOsec', 'MRIOdesc', 'EA'])\n",
    "    .agg('sum')\n",
    "    .reset_index()\n",
    ")\n",
    "\n",
    "# get unique observations (country+sector) and green types\n",
    "sector_df_unique = sector_df[['year', 'country_iso3', 'code', 'name_adb', 'region', 'MRIOsec', 'MRIOdesc']].drop_duplicates()\n",
    "green_types = sector_df['EA'].unique().tolist()\n",
    "green_industries = sector_df['MRIOsec'].unique().tolist()\n",
    "\n",
    "# merge green types to sector df \n",
    "# sector_df_full = sector_df_unique.assign(key=1).merge(pd.DataFrame({'EA': green_types, 'key': 1}), on='key').drop('key', axis=1)\n",
    "# sector_df_full = sector_df_full.merge(sector_df, on=['year', 'country_iso3', 'code', 'name_adb', 'region', 'MRIOsec', 'MRIOdesc', 'EA'], how='left')\n",
    "# sector_df_full['export_val'] = sector_df_full['export_val'].fillna(0)"
   ]
  },
  {
   "cell_type": "code",
   "execution_count": 260,
   "metadata": {},
   "outputs": [],
   "source": [
    "sector_df_full = mrio_list.assign(key=1).merge(pd.DataFrame({'EA': green_types, 'key': 1}), on='key').drop('key', axis=1)"
   ]
  },
  {
   "cell_type": "code",
   "execution_count": 261,
   "metadata": {},
   "outputs": [],
   "source": [
    "sector_df_full = (\n",
    "    sector_df_full.merge(\n",
    "    sector_df, \n",
    "    left_on=['country', 'region',  'mrio_sector', 'EA'],\n",
    "    right_on=['code', 'region', 'MRIOsec', 'EA'], \n",
    "    how='left'\n",
    "    )\n",
    "    .drop(columns=['year', 'country_iso3', 'code', 'name_adb', 'MRIOsec', 'MRIOdesc'])\n",
    "    )\n",
    "\n",
    "sector_df_full['export_val'] = sector_df_full['export_val'].fillna(0)"
   ]
  },
  {
   "cell_type": "code",
   "execution_count": 263,
   "metadata": {},
   "outputs": [],
   "source": [
    "# calculate shares\n",
    "sector_df_full['total_exports'] = sector_df_full.groupby(['country', 'mrio_sector', 'sector_no', 'sector_name', 'sector_name_short', 'c15_name', 'region'])['export_val'].transform('sum')\n",
    "sector_df_full['export_share'] = sector_df_full['export_val'] / sector_df_full['total_exports']\n",
    "sector_df_full['export_share'] = sector_df_full['export_share'].fillna(0)"
   ]
  },
  {
   "cell_type": "code",
   "execution_count": 285,
   "metadata": {},
   "outputs": [
    {
     "name": "stderr",
     "output_type": "stream",
     "text": [
      "/var/folders/rd/n9w0gpv53y72x5k9wk3hp63w0000gn/T/ipykernel_1652/2665987089.py:15: DeprecationWarning: DataFrameGroupBy.apply operated on the grouping columns. This behavior is deprecated, and in a future version of pandas the grouping columns will be excluded from the operation. Either pass `include_groups=False` to exclude the groupings or explicitly select the grouping columns after groupby to silence this warning.\n",
      "  sector_df_full_adjusted = grouped_df.apply(adjust_export_share).reset_index(drop=True)\n"
     ]
    }
   ],
   "source": [
    "sector_df_full['original_index'] = sector_df_full.index\n",
    "grouped_df = sector_df_full.groupby(['country', 'mrio_sector', 'sector_no', 'sector_name', 'sector_name_short', 'c15_name'])\n",
    "\n",
    "def adjust_export_share(group):\n",
    "    total_export_share = group['export_share'].sum()\n",
    "\n",
    "    if total_export_share == 1:\n",
    "        return group\n",
    "\n",
    "    if total_export_share == 0:\n",
    "        group.loc[group['EA'] == 'NG', 'export_share'] = 1\n",
    "\n",
    "    return group\n",
    "\n",
    "sector_df_full_adjusted = grouped_df.apply(adjust_export_share).reset_index(drop=True)\n",
    "sector_df_full_adjusted = sector_df_full_adjusted.sort_values(by='original_index').drop(columns=['original_index']).reset_index(drop=True)\n"
   ]
  },
  {
   "cell_type": "code",
   "execution_count": 290,
   "metadata": {},
   "outputs": [],
   "source": [
    "# domestic: green shares per sector\n",
    "sector_dom = pd.merge(sector_df_full_adjusted, gva_2022, on=['country', 'mrio_sector'], how='right')\n",
    "sector_dom['va_val'] = sector_dom['export_share'] * sector_dom['total_gva']"
   ]
  },
  {
   "cell_type": "code",
   "execution_count": 316,
   "metadata": {},
   "outputs": [],
   "source": [
    "sector_dom_sorted = sector_dom.sort_values(by=['country', 'EA', 'mrio_sector']).reset_index(drop=True)"
   ]
  },
  {
   "cell_type": "code",
   "execution_count": 297,
   "metadata": {},
   "outputs": [],
   "source": [
    "sector_dom.to_excel('./data/raw/output_shares.xlsx')"
   ]
  },
  {
   "cell_type": "markdown",
   "metadata": {},
   "source": [
    "# MRIO Disaggregation"
   ]
  },
  {
   "cell_type": "markdown",
   "metadata": {},
   "source": [
    "## I. "
   ]
  },
  {
   "cell_type": "code",
   "execution_count": 355,
   "metadata": {},
   "outputs": [],
   "source": [
    "# sort values by EA type\n",
    "country_order = sector_dom['country'].unique()\n",
    "ea_order = sector_dom['EA'].unique()\n",
    "\n",
    "sector_dom['country'] = pd.Categorical(sector_dom['country'], categories=country_order, ordered=True)\n",
    "sector_dom['EA'] = pd.Categorical(sector_dom['EA'], categories=ea_order, ordered=True)\n",
    "sector_dom_sorted = sector_dom.sort_values(by=['country', 'EA', 'sector_no']).reset_index(drop=True)\n",
    "\n",
    "# get export share row vector\n",
    "export_shares = sector_dom_sorted['export_share'].to_numpy()"
   ]
  },
  {
   "cell_type": "code",
   "execution_count": 423,
   "metadata": {},
   "outputs": [],
   "source": [
    "export_shares_reshape = export_shares.reshape(-1, 35)\n",
    "diagonal_matrices = np.array([np.diag(export_shares_reshape[i]) for i in range(export_shares_reshape.shape[0])])"
   ]
  },
  {
   "cell_type": "code",
   "execution_count": 432,
   "metadata": {},
   "outputs": [],
   "source": [
    "diagonal_matrices = diagonal_matrices.reshape(73, 5, 35, 35)"
   ]
  }
 ],
 "metadata": {
  "kernelspec": {
   "display_name": "climate2",
   "language": "python",
   "name": "python3"
  },
  "language_info": {
   "codemirror_mode": {
    "name": "ipython",
    "version": 3
   },
   "file_extension": ".py",
   "mimetype": "text/x-python",
   "name": "python",
   "nbconvert_exporter": "python",
   "pygments_lexer": "ipython3",
   "version": "3.10.7"
  }
 },
 "nbformat": 4,
 "nbformat_minor": 2
}
